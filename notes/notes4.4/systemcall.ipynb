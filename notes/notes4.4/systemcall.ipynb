{
 "cells": [
  {
   "cell_type": "markdown",
   "metadata": {},
   "source": [
    "# System Call"
   ]
  },
  {
   "attachments": {},
   "cell_type": "markdown",
   "metadata": {},
   "source": [
    "![](resources/systemcall01.png)\n",
    "\n",
    "## system call stack frame\n",
    "\n",
    "![](resources/systemcall03.png)\n",
    "![](resources/systemcall04.png)\n",
    "\n",
    "1. Normal C function call stack frame\n",
    "  \n",
    "![](resources/systemcall02.png)\n",
    "\n",
    "2. System call copy all parameters from the registers to kernel stack to form a normal C function call stack frame. \n",
    "   \n",
    "   Then run the real system call function like calling a normal C function.\n",
    "\n",
    "--------------------------------"
   ]
  }
 ],
 "metadata": {
  "kernelspec": {
   "display_name": "py310",
   "language": "python",
   "name": "python3"
  },
  "language_info": {
   "name": "python",
   "version": "3.10.8 (main, Nov 24 2022, 14:13:03) [GCC 11.2.0]"
  },
  "orig_nbformat": 4,
  "vscode": {
   "interpreter": {
    "hash": "1be8c8bdc6fd86eebde1498154837c0fcc29bda10079a062db8bdccc6e4e2b17"
   }
  }
 },
 "nbformat": 4,
 "nbformat_minor": 2
}
