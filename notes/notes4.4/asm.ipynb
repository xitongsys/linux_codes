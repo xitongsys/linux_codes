{
 "cells": [
  {
   "attachments": {},
   "cell_type": "markdown",
   "metadata": {},
   "source": [
    "# ASM\n",
    "\n",
    "[REF](https://www.ibiblio.org/gferg/ldp/GCC-Inline-Assembly-HOWTO.html)\n",
    "\n",
    "![](resources/asm01.png)\n",
    "\n",
    "--------------------------------------"
   ]
  }
 ],
 "metadata": {
  "language_info": {
   "name": "python"
  },
  "orig_nbformat": 4
 },
 "nbformat": 4,
 "nbformat_minor": 2
}
