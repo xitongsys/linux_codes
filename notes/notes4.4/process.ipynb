{
 "cells": [
  {
   "cell_type": "markdown",
   "metadata": {},
   "source": [
    "# process\n",
    "\n",
    "\n"
   ]
  },
  {
   "cell_type": "markdown",
   "metadata": {},
   "source": [
    "## process group & session\n",
    "\n",
    "**Process Group** is a collection of related processes which can all be signalled at once.\n",
    "\n",
    "**Session** is a collection of process groups, which are either attached to a single terminal device(known as the controlling terminal) or not attached to any terminal.\n",
    "\n",
    "Sessions are used for job control: one of the process groups in the session is the foreground process group, and can be sent signals by terminal control characters. You can think of a session with a controlling terminal as corresponding to a \"login\" on that terminal. (Daemons normally disassociate themselves from any controlling terminal by creating a new session without one.)\n",
    "\n",
    "e.g. if you run some_app from the shell, the shell creates a new process group for it, and makes that the foreground process group of the session. (some_app might create some child processes; by default they will be part of the same process group.) If you then press ^Z, some_app's process group is signalled to stop it; and the shell's process group is switched to be the foreground process group again. Then e.g.bg %1 would start some_app's process group again, but keep it running in the background.\n",
    "\n",
    "\n",
    "[Linux进程模型--会话和进程组](https://www.jianshu.com/p/d953cac76de9?utm_campaign=maleskine&utm_content=note&utm_medium=seo_notes&utm_source=recommendation)\n",
    "\n",
    "[The process model](https://www.informit.com/articles/article.aspx?p=397655&seqNum=6)\n",
    "\n",
    "-------------------"
   ]
  }
 ],
 "metadata": {
  "kernelspec": {
   "display_name": "py310",
   "language": "python",
   "name": "python3"
  },
  "language_info": {
   "name": "python",
   "version": "3.10.8 (main, Nov 24 2022, 14:13:03) [GCC 11.2.0]"
  },
  "orig_nbformat": 4,
  "vscode": {
   "interpreter": {
    "hash": "1be8c8bdc6fd86eebde1498154837c0fcc29bda10079a062db8bdccc6e4e2b17"
   }
  }
 },
 "nbformat": 4,
 "nbformat_minor": 2
}
