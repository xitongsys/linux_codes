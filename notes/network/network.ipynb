{
 "cells": [
  {
   "attachments": {},
   "cell_type": "markdown",
   "metadata": {},
   "source": [
    "# Linux Network\n",
    "\n",
    "Ref: [Understanding Linux Network Internals]()\n"
   ]
  },
  {
   "attachments": {},
   "cell_type": "markdown",
   "metadata": {},
   "source": [
    "## chapter 1: Introduction\n",
    "\n",
    "![](resources/01_01.png)\n",
    "![](resources/01_02.png)"
   ]
  },
  {
   "attachments": {},
   "cell_type": "markdown",
   "metadata": {},
   "source": [
    "1. nice trick. `placeholder` takes 0 bytes memory."
   ]
  },
  {
   "attachments": {},
   "cell_type": "markdown",
   "metadata": {},
   "source": [
    "## Chapter 2: Critical Data Structures\n",
    "\n",
    "### sk_buff\n",
    "\n",
    "[sk_buff previous notes](../notes4.4/network.ipynb)\n",
    "\n",
    "主要有以下几点\n",
    "\n",
    "1. 结构体内部对每一层都用union来包含各种protocol的header。这样一个结构体可以存储不同的protocol的packet\n",
    "   \n",
    "```c\n",
    "union {\n",
    "\tstruct tcphdr\t*th;\n",
    "\tstruct udphdr\t*uh;\n",
    "\tstruct icmphdr\t*icmph;\n",
    "\tstruct igmphdr\t*igmph;\n",
    "\tstruct iphdr\t*ipiph;\n",
    "\tstruct ipv6hdr\t*ipv6h;\n",
    "\tunsigned char\t*raw;\n",
    "} h;\n",
    "\n",
    "union {\n",
    "\tstruct iphdr\t*iph;\n",
    "\tstruct ipv6hdr\t*ipv6h;\n",
    "\tstruct arphdr\t*arph;\n",
    "\tunsigned char\t*raw;\n",
    "} nh;\n",
    "\n",
    "union {\n",
    "\tunsigned char \t*raw;\n",
    "} mac;\n",
    "```\n",
    "\n",
    "2. 结构体最后是指向真正的data buffer的一些指针\n",
    "\n",
    "```c\n",
    "/* These elements must be at the end, see alloc_skb() for details.  */\n",
    "unsigned int    truesize;\n",
    "atomic_t        users;\n",
    "unsigned char\t*head,*data,*tail,*end;\n",
    "```\n",
    "具体含义看前面的图。核心一点就是可以通过skb_reserve函数在buffer前面保留一段空间，方便后面加各个level的head\n",
    "\n",
    "```c\n",
    "static inline void skb_reserve(struct sk_buff *skb, unsigned int len)\n",
    "{\n",
    "    skb->data+=len;\n",
    "    skb->tail+=len;\n",
    "}\n",
    "```\n",
    "\n",
    "3. 处理packet的过程就是从data buffer里不断 解析/写入 各个level的数据，下图就是一个写入过程\n",
    "\n",
    "![](resources/02_01.png)\n"
   ]
  }
 ],
 "metadata": {
  "language_info": {
   "name": "python"
  },
  "orig_nbformat": 4
 },
 "nbformat": 4,
 "nbformat_minor": 2
}
