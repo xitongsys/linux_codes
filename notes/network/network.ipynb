{
 "cells": [
  {
   "attachments": {},
   "cell_type": "markdown",
   "metadata": {},
   "source": [
    "# Linux Network\n",
    "\n",
    "Ref: [Understanding Linux Network Internals]()\n"
   ]
  },
  {
   "attachments": {},
   "cell_type": "markdown",
   "metadata": {},
   "source": [
    "## chapter 1: Introduction\n",
    "\n",
    "![](resources/01_01.png)\n",
    "![](resources/01_02.png)"
   ]
  },
  {
   "attachments": {},
   "cell_type": "markdown",
   "metadata": {},
   "source": [
    "1. nice trick. `placeholder` takes 0 bytes memory."
   ]
  }
 ],
 "metadata": {
  "language_info": {
   "name": "python"
  },
  "orig_nbformat": 4
 },
 "nbformat": 4,
 "nbformat_minor": 2
}
